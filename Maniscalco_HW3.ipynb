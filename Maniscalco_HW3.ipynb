{
 "cells": [
  {
   "cell_type": "markdown",
   "metadata": {
    "colab_type": "text",
    "id": "BxtreUAPraI-"
   },
   "source": [
    "#**HW 3: Convolutional Neural Networks**\n",
    "\n",
    "In this homework, we will explore how to develop a simple Convolutional Neural Network for image classification. We will use the same dataset that we used in the previous exercise, the Fashion Minst. In the first part, we will learn how to develop a simple CNN, while in the second part we will explore the impact of various hyper-parameters in the learning performances."
   ]
  },
  {
   "cell_type": "markdown",
   "metadata": {
    "colab_type": "text",
    "id": "CRwTPJt3rxug"
   },
   "source": [
    "## Exercise 3.1: Simple CNN\n",
    "\n",
    "Let's start by importing Tensorflow, Keras and Numpy"
   ]
  },
  {
   "cell_type": "code",
   "execution_count": 0,
   "metadata": {
    "colab": {},
    "colab_type": "code",
    "id": "seDcv-RvrUpM"
   },
   "outputs": [],
   "source": [
    "import tensorflow as tf\n",
    "from tensorflow import keras\n",
    "import matplotlib.pyplot as plt\n",
    "import numpy as np\n",
    "\n",
    "np.random.seed(42)"
   ]
  },
  {
   "cell_type": "markdown",
   "metadata": {
    "colab_type": "text",
    "id": "UxWbaR_HsPYp"
   },
   "source": [
    "### Load dataset:\n",
    "Load the Fashion Minst dataset as we did in the previous homework. As you already know Fashion Minst dataset contains grayscale images, and the task consists of classifying the images in the ten classes. As we did in HW2 we have to divide the dataset in training test and validation set. Since we will use a [2DConv](https://www.tensorflow.org/api_docs/python/tf/keras/layers/Conv2D) we have to provide also a new dimension of the input that represents the number of channels (that in ggreyscaleimage is just one). Therefore we [tf.expand_dims](https://) dim to do that. Finaly, as we did in HW2 we have to normalize the input data."
   ]
  },
  {
   "cell_type": "code",
   "execution_count": 0,
   "metadata": {
    "colab": {
     "base_uri": "https://localhost:8080/",
     "height": 166
    },
    "colab_type": "code",
    "executionInfo": {
     "elapsed": 3753,
     "status": "ok",
     "timestamp": 1588026414179,
     "user": {
      "displayName": "davide maniscalco",
      "photoUrl": "",
      "userId": "10483148750674350960"
     },
     "user_tz": -120
    },
    "id": "8QQy37jnsH_e",
    "outputId": "85095279-c554-4a46-ec55-41ad2eaf10e0"
   },
   "outputs": [
    {
     "name": "stdout",
     "output_type": "stream",
     "text": [
      "Downloading data from https://storage.googleapis.com/tensorflow/tf-keras-datasets/train-labels-idx1-ubyte.gz\n",
      "32768/29515 [=================================] - 0s 0us/step\n",
      "Downloading data from https://storage.googleapis.com/tensorflow/tf-keras-datasets/train-images-idx3-ubyte.gz\n",
      "26427392/26421880 [==============================] - 0s 0us/step\n",
      "Downloading data from https://storage.googleapis.com/tensorflow/tf-keras-datasets/t10k-labels-idx1-ubyte.gz\n",
      "8192/5148 [===============================================] - 0s 0us/step\n",
      "Downloading data from https://storage.googleapis.com/tensorflow/tf-keras-datasets/t10k-images-idx3-ubyte.gz\n",
      "4423680/4422102 [==============================] - 0s 0us/step\n"
     ]
    }
   ],
   "source": [
    "fashion_mnist = keras.datasets.fashion_mnist\n",
    "(X_train_full, y_train_full), (X_test, y_test) = (\n",
    "    fashion_mnist.load_data()) #The dataset is already divede in test and training..\n",
    "\n",
    "#Normalize the data\n",
    "pixel_means = X_train_full.mean(axis = 0)\n",
    "pixel_stds = X_test.std(axis = 0)\n",
    "\n",
    "X_train_full = (X_train_full - pixel_means) / pixel_stds\n",
    "X_test = (X_test - pixel_means) / pixel_stds \n",
    "\n",
    "#Add one dimension to manage the channel\n",
    "X_train_full=tf.expand_dims(X_train_full, 3) \n",
    "X_test=tf.expand_dims(X_test,3)\n",
    "\n",
    "#Extract the first 5000 samples of the training set, to use them as the validation set\n",
    "X_valid, X_train = X_train_full[:5000], X_train_full[5000:] \n",
    "y_valid, y_train = y_train_full[:5000], y_train_full[5000:]\n",
    "\n",
    "class_names = [\"T-shirt/top\", \"Trouser\", \"Pullover\", \"Dress\", \"Coat\",\n",
    "               \"Sandal\", \"Shirt\", \"Sneaker\", \"Bag\", \"Ankle boot\"]\n"
   ]
  },
  {
   "cell_type": "markdown",
   "metadata": {
    "colab_type": "text",
    "id": "mhWYkFmQsNm5"
   },
   "source": [
    "### Define the model\n",
    "\n",
    "Let's create a simple CNN. The model will be composed of:\n",
    "* One 2D convolutional layer with kernel size 3x3 and 32 output filters/features, that use ReLu activation function\n",
    "* a Max Pooling layer (2D) of size 2x2 ([MaxPool2D](https://www.tensorflow.org/api_docs/python/tf/keras/layers/MaxPool2D))\n",
    "* a Flatten layer\n",
    "* the output layer,  the same we used in HW2 (that use softmax function)\n",
    "Note that as 'input_shape' attribute's value in the first layer report also the third dimension that represents the channel."
   ]
  },
  {
   "cell_type": "code",
   "execution_count": 0,
   "metadata": {
    "colab": {},
    "colab_type": "code",
    "id": "paLpCd7XsOYs"
   },
   "outputs": [],
   "source": [
    "model = keras.models.Sequential([\n",
    "    keras.layers.Conv2D(filters=32, kernel_size=[3,3], padding=\"same\", activation=\"relu\", input_shape=[28, 28,1]),\n",
    "    keras.layers.MaxPool2D(pool_size=[2,2]),\n",
    "    keras.layers.Flatten(),\n",
    "    keras.layers.Dense(10, activation=\"softmax\")\n",
    "])\n",
    "model.compile(loss=\"sparse_categorical_crossentropy\",\n",
    "              optimizer='sgd',\n",
    "              metrics=[\"accuracy\"])\n"
   ]
  },
  {
   "cell_type": "markdown",
   "metadata": {
    "colab_type": "text",
    "id": "bdnAR5KzssZk"
   },
   "source": [
    "Print the model summary"
   ]
  },
  {
   "cell_type": "code",
   "execution_count": 0,
   "metadata": {
    "colab": {
     "base_uri": "https://localhost:8080/",
     "height": 315
    },
    "colab_type": "code",
    "executionInfo": {
     "elapsed": 2919,
     "status": "ok",
     "timestamp": 1588026414189,
     "user": {
      "displayName": "davide maniscalco",
      "photoUrl": "",
      "userId": "10483148750674350960"
     },
     "user_tz": -120
    },
    "id": "ga-UGdspsslW",
    "outputId": "1569f51e-90e6-43bb-84f4-a983ec928eaa"
   },
   "outputs": [
    {
     "name": "stdout",
     "output_type": "stream",
     "text": [
      "Model: \"sequential\"\n",
      "_________________________________________________________________\n",
      "Layer (type)                 Output Shape              Param #   \n",
      "=================================================================\n",
      "conv2d (Conv2D)              (None, 28, 28, 32)        320       \n",
      "_________________________________________________________________\n",
      "max_pooling2d (MaxPooling2D) (None, 14, 14, 32)        0         \n",
      "_________________________________________________________________\n",
      "flatten (Flatten)            (None, 6272)              0         \n",
      "_________________________________________________________________\n",
      "dense (Dense)                (None, 10)                62730     \n",
      "=================================================================\n",
      "Total params: 63,050\n",
      "Trainable params: 63,050\n",
      "Non-trainable params: 0\n",
      "_________________________________________________________________\n"
     ]
    }
   ],
   "source": [
    "model.summary()"
   ]
  },
  {
   "cell_type": "markdown",
   "metadata": {
    "colab_type": "text",
    "id": "11S83_J0MIqb"
   },
   "source": [
    "Note that the number of parameters mostly depends on the output layers, indeed the sharing parameters techinique used by the 2D convolutional layers allows to significantly reduce the number of learnable weights.\n",
    "Now we can train the model"
   ]
  },
  {
   "cell_type": "code",
   "execution_count": 0,
   "metadata": {
    "colab": {
     "base_uri": "https://localhost:8080/",
     "height": 390
    },
    "colab_type": "code",
    "executionInfo": {
     "elapsed": 226854,
     "status": "ok",
     "timestamp": 1588026639643,
     "user": {
      "displayName": "davide maniscalco",
      "photoUrl": "",
      "userId": "10483148750674350960"
     },
     "user_tz": -120
    },
    "id": "57aZ0KRGM7kY",
    "outputId": "106d1ff5-9c16-4e1d-b7e0-e1d7cac54885"
   },
   "outputs": [
    {
     "name": "stdout",
     "output_type": "stream",
     "text": [
      "Epoch 1/10\n",
      "430/430 [==============================] - 23s 53ms/step - loss: 0.7296 - accuracy: 0.7631 - val_loss: 0.4999 - val_accuracy: 0.8320\n",
      "Epoch 2/10\n",
      "430/430 [==============================] - 22s 52ms/step - loss: 0.4737 - accuracy: 0.8370 - val_loss: 0.4335 - val_accuracy: 0.8586\n",
      "Epoch 3/10\n",
      "430/430 [==============================] - 22s 52ms/step - loss: 0.4231 - accuracy: 0.8545 - val_loss: 0.4031 - val_accuracy: 0.8618\n",
      "Epoch 4/10\n",
      "430/430 [==============================] - 22s 52ms/step - loss: 0.3949 - accuracy: 0.8634 - val_loss: 0.3855 - val_accuracy: 0.8658\n",
      "Epoch 5/10\n",
      "430/430 [==============================] - 22s 52ms/step - loss: 0.3761 - accuracy: 0.8697 - val_loss: 0.3745 - val_accuracy: 0.8732\n",
      "Epoch 6/10\n",
      "430/430 [==============================] - 22s 52ms/step - loss: 0.3615 - accuracy: 0.8732 - val_loss: 0.3565 - val_accuracy: 0.8792\n",
      "Epoch 7/10\n",
      "430/430 [==============================] - 22s 52ms/step - loss: 0.3493 - accuracy: 0.8782 - val_loss: 0.3594 - val_accuracy: 0.8796\n",
      "Epoch 8/10\n",
      "430/430 [==============================] - 22s 52ms/step - loss: 0.3398 - accuracy: 0.8810 - val_loss: 0.3446 - val_accuracy: 0.8838\n",
      "Epoch 9/10\n",
      "430/430 [==============================] - 23s 53ms/step - loss: 0.3321 - accuracy: 0.8832 - val_loss: 0.3350 - val_accuracy: 0.8854\n",
      "Epoch 10/10\n",
      "430/430 [==============================] - 22s 52ms/step - loss: 0.3245 - accuracy: 0.8865 - val_loss: 0.3393 - val_accuracy: 0.8844\n"
     ]
    }
   ],
   "source": [
    "history = model.fit(X_train, y_train, epochs=10, batch_size=128,\n",
    "                    validation_data=(X_valid, y_valid))"
   ]
  },
  {
   "cell_type": "markdown",
   "metadata": {
    "colab_type": "text",
    "id": "xfPHQGs6M8AE"
   },
   "source": [
    "Plot the loss and the accuracy trends for the training and validation set, Then compute the result on the test set."
   ]
  },
  {
   "cell_type": "code",
   "execution_count": 0,
   "metadata": {
    "colab": {
     "base_uri": "https://localhost:8080/",
     "height": 800
    },
    "colab_type": "code",
    "executionInfo": {
     "elapsed": 228558,
     "status": "ok",
     "timestamp": 1588026641799,
     "user": {
      "displayName": "davide maniscalco",
      "photoUrl": "",
      "userId": "10483148750674350960"
     },
     "user_tz": -120
    },
    "id": "yVD4jB7ZMK5z",
    "outputId": "5b9e387d-827a-4f00-b62b-45a03b2d46f1"
   },
   "outputs": [
    {
     "name": "stdout",
     "output_type": "stream",
     "text": [
      "313/313 - 2s - loss: 0.3577 - accuracy: 0.8751\n",
      "accuracy: 87.51%\n"
     ]
    },
    {
     "data": {
      "image/png": "[encoded data removed]",
      "text/plain": [
       "<Figure size 720x432 with 1 Axes>"
      ]
     },
     "metadata": {
      "needs_background": "light",
      "tags": []
     },
     "output_type": "display_data"
    },
    {
     "data": {
      "image/png": "[encoded data removed]",
      "text/plain": [
       "<Figure size 720x432 with 1 Axes>"
      ]
     },
     "metadata": {
      "needs_background": "light",
      "tags": []
     },
     "output_type": "display_data"
    }
   ],
   "source": [
    "def plot_loss(history):\n",
    "  plt.figure(figsize=(10,6))\n",
    "  plt.plot(history.epoch,history.history['loss'],label='training loss')\n",
    "  plt.plot(history.epoch,history.history['val_loss'], label='validation loss')\n",
    "  plt.title('loss')\n",
    "  plt.legend()\n",
    "\n",
    "def plot_accuracy(history):\n",
    "  plt.figure(figsize=(10,6))\n",
    "  plt.plot(history.epoch,history.history['accuracy'], label='training accuracy')\n",
    "  plt.plot(history.epoch,history.history['val_accuracy'], label='validation accuracy')\n",
    "  plt.title('accuracy')\n",
    "  plt.legend()\n",
    "\n",
    "plot_loss(history)\n",
    "\n",
    "plot_accuracy(history)\n",
    "\n",
    "scores = model.evaluate(X_test, y_test, verbose=2)\n",
    "print(\"%s: %.2f%%\" % (model.metrics_names[1], scores[1]*100))\n",
    "\n"
   ]
  },
  {
   "cell_type": "markdown",
   "metadata": {
    "colab_type": "text",
    "id": "j5wOQymFYZjA"
   },
   "source": [
    "### Visualize Weights\n",
    "\n",
    "An interesting thing is to visualize the learned weights for the convolutional layer. We have 32 kernels of size 3x3, we can just plot them as images, mapping the weight values to grayscale."
   ]
  },
  {
   "cell_type": "code",
   "execution_count": 0,
   "metadata": {
    "colab": {
     "base_uri": "https://localhost:8080/",
     "height": 237
    },
    "colab_type": "code",
    "executionInfo": {
     "elapsed": 229064,
     "status": "ok",
     "timestamp": 1588026642646,
     "user": {
      "displayName": "davide maniscalco",
      "photoUrl": "",
      "userId": "10483148750674350960"
     },
     "user_tz": -120
    },
    "id": "EXHiS8VyY6pg",
    "outputId": "ad170089-e99f-414e-ffbb-b985e14204cc"
   },
   "outputs": [
    {
     "data": {
      "image/png": "[encoded data removed]",
      "text/plain": [
       "<Figure size 432x288 with 32 Axes>"
      ]
     },
     "metadata": {
      "needs_background": "light",
      "tags": []
     },
     "output_type": "display_data"
    }
   ],
   "source": [
    "# Weights for the first convolutional layer\n",
    "w0=model.get_weights()[0][:,:,0,:]\n",
    "\n",
    "# Normalize to range 0.0 - 1.0\n",
    "w0-=np.min(w0)\n",
    "w0/=np.max(w0)\n",
    "\n",
    "for r in range(4):\n",
    "    for c in range(8):\n",
    "        n=r*8+c\n",
    "        plt.subplot(4, 8, n+1)\n",
    "        plt.imshow(w0[:,:,n], interpolation='none')\n",
    "        plt.axis('off')\n",
    "        plt.gray()\n",
    "plt.show()"
   ]
  },
  {
   "cell_type": "code",
   "execution_count": 0,
   "metadata": {
    "colab": {
     "base_uri": "https://localhost:8080/",
     "height": 54
    },
    "colab_type": "code",
    "executionInfo": {
     "elapsed": 230524,
     "status": "ok",
     "timestamp": 1588026644255,
     "user": {
      "displayName": "davide maniscalco",
      "photoUrl": "",
      "userId": "10483148750674350960"
     },
     "user_tz": -120
    },
    "id": "ECErgrwIK3xY",
    "outputId": "bb73ab03-a1f7-4cf5-cfef-6fe762dc1ccf"
   },
   "outputs": [
    {
     "name": "stdout",
     "output_type": "stream",
     "text": [
      "313/313 [==============================] - 2s 6ms/step - loss: 0.3577 - accuracy: 0.8751\n"
     ]
    },
    {
     "data": {
      "text/plain": [
       "[0.3576916754245758, 0.8751000165939331]"
      ]
     },
     "execution_count": 9,
     "metadata": {
      "tags": []
     },
     "output_type": "execute_result"
    }
   ],
   "source": [
    "model.evaluate(X_test, y_test)"
   ]
  },
  {
   "cell_type": "markdown",
   "metadata": {
    "colab_type": "text",
    "id": "OsFQRbx3ZWtp"
   },
   "source": [
    "They might be a bit hard to interpret, but it seems that the various filters have learned to detect various corners and edges."
   ]
  },
  {
   "cell_type": "markdown",
   "metadata": {
    "colab_type": "text",
    "id": "-bOYmnXgZXi4"
   },
   "source": [
    "## Exercise 3.2: Develop a better CNN\n",
    "Let's develop a network that performs better than the very simple one above. This exercise aims to explore how much the various hyper-parameters influence the classification capability of the model. \n",
    "\n",
    "**To Complete**: Your task is to do some reparametrizations of the previous exercise's network and compare the results. At least one of them should have an improvement in the test set result (generalization) than the result of the model used in the previous exercise.\n",
    "In the cell below report only the code of the **best model** that you can find. In addtion, print out its result on the test set, and plot the accuracy and the loss trends in the notebook you return.\n",
    "Moreover, for each setup you test, analyze and discuss the obtained results briefly in the last cells in the bottom.\n",
    "\n",
    "Hint: Each reparameterization should change a different aspect in the network, while the rest of the parameters would stay the same. \n",
    "Example parameters to try to change (we suggest to test at least one re-parametrization for each of these categories):\n",
    "\n",
    "*    number of layers or neurons or filters dimension\n",
    "*   activation functions\n",
    "*   epochs\n",
    "*   batch sizes\n",
    "*   optimizer, see TensorFlow documentation on [optimizers](https://https://www.tensorflow.org/api_docs/python/tf/keras/optimizers)\n",
    "*   max-pooling on/off on certain layers, or pool size\n",
    "\n",
    "For what concerns the optimizer, as you can see in the 'compile' method [documentation'](https://www.tensorflow.org/api_docs/python/tf/keras/Model#compile) is it possible to pass as 'optimizer ' attribute's value a string (the name of optimizer) or an optimizer instance.\n",
    "\n",
    "Notice that changing the final layer's softmax activation plus the categorical_crossentropy loss requires some consideration. Don't do it unless you have a good plan."
   ]
  },
  {
   "cell_type": "code",
   "execution_count": 0,
   "metadata": {
    "colab": {},
    "colab_type": "code",
    "id": "Ry4I5lhHOjdi"
   },
   "outputs": [],
   "source": [
    "model = keras.models.Sequential([\n",
    "    keras.layers.Conv2D(filters=32, kernel_size=[4,4], padding=\"same\", activation=\"relu\", input_shape=[28, 28,1]),\n",
    "    keras.layers.Conv2D(filters=32, kernel_size=[4,4], padding=\"same\", activation=\"relu\", input_shape=[28, 28,1]),\n",
    "    keras.layers.MaxPool2D(pool_size=[2,2]),\n",
    "    keras.layers.Flatten(),\n",
    "    keras.layers.Dense(100, activation=\"relu\"),\n",
    "    keras.layers.Dense(10, activation=\"softmax\")\n",
    "])\n",
    "model.compile(loss=\"sparse_categorical_crossentropy\",\n",
    "              optimizer='adam',\n",
    "              metrics=[\"accuracy\"])"
   ]
  },
  {
   "cell_type": "code",
   "execution_count": 0,
   "metadata": {
    "colab": {
     "base_uri": "https://localhost:8080/",
     "height": 129
    },
    "colab_type": "code",
    "executionInfo": {
     "elapsed": 557481,
     "status": "ok",
     "timestamp": 1588030207858,
     "user": {
      "displayName": "davide maniscalco",
      "photoUrl": "",
      "userId": "10483148750674350960"
     },
     "user_tz": -120
    },
    "id": "aDSEOx09sYae",
    "outputId": "6804845a-aeae-4198-d474-947ba6cd5b07"
   },
   "outputs": [
    {
     "name": "stdout",
     "output_type": "stream",
     "text": [
      "Epoch 1/3\n",
      "1100/1100 [==============================] - 184s 167ms/step - loss: 0.3618 - accuracy: 0.8710 - val_loss: 0.2551 - val_accuracy: 0.9076\n",
      "Epoch 2/3\n",
      "1100/1100 [==============================] - 185s 168ms/step - loss: 0.2246 - accuracy: 0.9191 - val_loss: 0.2386 - val_accuracy: 0.9142\n",
      "Epoch 3/3\n",
      "1100/1100 [==============================] - 187s 170ms/step - loss: 0.1676 - accuracy: 0.9379 - val_loss: 0.2246 - val_accuracy: 0.9228\n"
     ]
    }
   ],
   "source": [
    "history1 = model.fit(X_train, y_train, epochs=3, batch_size=50,\n",
    "                    validation_data=(X_valid, y_valid))"
   ]
  },
  {
   "cell_type": "code",
   "execution_count": 0,
   "metadata": {
    "colab": {
     "base_uri": "https://localhost:8080/",
     "height": 54
    },
    "colab_type": "code",
    "executionInfo": {
     "elapsed": 8859,
     "status": "ok",
     "timestamp": 1588030544742,
     "user": {
      "displayName": "davide maniscalco",
      "photoUrl": "",
      "userId": "10483148750674350960"
     },
     "user_tz": -120
    },
    "id": "MDXC_O8GPA53",
    "outputId": "9f40dc86-d84b-41fe-a3b8-4916e2f19497"
   },
   "outputs": [
    {
     "name": "stdout",
     "output_type": "stream",
     "text": [
      "313/313 [==============================] - 8s 26ms/step - loss: 0.2390 - accuracy: 0.9162\n"
     ]
    },
    {
     "data": {
      "text/plain": [
       "[0.23897796869277954, 0.9161999821662903]"
      ]
     },
     "execution_count": 20,
     "metadata": {
      "tags": []
     },
     "output_type": "execute_result"
    }
   ],
   "source": [
    "model.evaluate(X_test, y_test)"
   ]
  },
  {
   "cell_type": "code",
   "execution_count": 0,
   "metadata": {
    "colab": {
     "base_uri": "https://localhost:8080/",
     "height": 763
    },
    "colab_type": "code",
    "executionInfo": {
     "elapsed": 1054,
     "status": "ok",
     "timestamp": 1588030548787,
     "user": {
      "displayName": "davide maniscalco",
      "photoUrl": "",
      "userId": "10483148750674350960"
     },
     "user_tz": -120
    },
    "id": "s_PDpjS8aJoF",
    "outputId": "1440c57e-4551-450c-899e-9c4c1dc68a09"
   },
   "outputs": [
    {
     "data": {
      "image/png": "[encoded data removed]",
      "text/plain": [
       "<Figure size 720x432 with 1 Axes>"
      ]
     },
     "metadata": {
      "needs_background": "light",
      "tags": []
     },
     "output_type": "display_data"
    },
    {
     "data": {
      "image/png": "[encoded data removed]",
      "text/plain": [
       "<Figure size 720x432 with 1 Axes>"
      ]
     },
     "metadata": {
      "needs_background": "light",
      "tags": []
     },
     "output_type": "display_data"
    }
   ],
   "source": [
    "plot_loss(history1)\n",
    "plot_accuracy(history1)\n"
   ]
  },
  {
   "cell_type": "markdown",
   "metadata": {
    "colab_type": "text",
    "id": "0nlE10XIjAid"
   },
   "source": [
    "### Test results discussion\n",
    "The best model that I found is the one shown above.\n",
    "\n",
    "\n",
    "The achieved accuracy in the test set is $0.9162$\n",
    "\n",
    "\n",
    "Discussion:\n",
    "Concerning the architecture, the differences respect to the one that was already built are the following:\n",
    "- One additional convolutional layer\n",
    "- Different kernel size\n",
    "- One additional dense layer\n",
    "\n",
    "The choice of the pooling and of the activation function remained instead the same. Concerning the learning procedure, the differences are:\n",
    "- Smaller batch size\n",
    "- Less epochs\n",
    "- Adam optimizer\n",
    "\n",
    "The changes that lead to the most important improvement were the addition of the convolutional layer, the choice of adam in place of sgd, the reduction of the batch size; less was the impact of the others changes. In this case three epochs were needed to reach the maximum accuracy on the validation set."
   ]
  },
  {
   "cell_type": "markdown",
   "metadata": {
    "colab_type": "text",
    "id": "4sj0soo3bRIs"
   },
   "source": [
    "Besides, I also tested other models: \n",
    "Many possibilities for the various hyperparameters were tested, for example:\n",
    "- No additional convolutional layer\n",
    "- No additional dense layer\n",
    "- Average pooling instead of max pooling\n",
    "- Different pooling size ([3,3], [4,4])\n",
    "- Different kernel size ([2,2])\n",
    "- sigmoid activation function\n",
    "- tanh activation function\n",
    "- Different batch sizes\n",
    "\n",
    "Discussion:\n",
    "Some of these choices didn't make a performance very different from the best one (slightly different batch size, no additional dense layer, different activation function, different kernel size, different pooling size) while the most part of the improvement was due to the choice of adam and of the additional convolutional layer. The choice of the number of epochs was always the last thing, in order to choose a proper number (not too small, to reach the best accuracy on the validation data, not too big, to avoid overfitting)."
   ]
  },
  {
   "cell_type": "code",
   "execution_count": 0,
   "metadata": {
    "colab": {},
    "colab_type": "code",
    "id": "gh79y8wjWeeb"
   },
   "outputs": [],
   "source": []
  }
 ],
 "metadata": {
  "colab": {
   "collapsed_sections": [],
   "name": "Copy of HW3.ipynb",
   "provenance": [
    {
     "file_id": "1U5qE1Qody0wZSwpk9zMmIEDVtz6MmRrp",
     "timestamp": 1588031112777
    }
   ],
   "toc_visible": true
  },
  "kernelspec": {
   "display_name": "Python 3",
   "language": "python",
   "name": "python3"
  },
  "language_info": {
   "codemirror_mode": {
    "name": "ipython",
    "version": 3
   },
   "file_extension": ".py",
   "mimetype": "text/x-python",
   "name": "python",
   "nbconvert_exporter": "python",
   "pygments_lexer": "ipython3",
   "version": "3.8.10"
  }
 },
 "nbformat": 4,
 "nbformat_minor": 1
}
